{
 "cells": [
  {
   "cell_type": "markdown",
   "id": "980029b7",
   "metadata": {},
   "source": [
    "# Lab | BI Analysis with Tableau\n"
   ]
  },
  {
   "cell_type": "code",
   "execution_count": null,
   "id": "1c9c7917",
   "metadata": {},
   "outputs": [],
   "source": [
    "'''\n",
    "https://public.tableau.com/views/ttlab-bi-analysis-tableau/Story1?:language=pt-BR&publish=yes&:display_count=n&:origin=viz_share_link\n",
    "'''"
   ]
  }
 ],
 "metadata": {
  "kernelspec": {
   "display_name": "Python 3",
   "language": "python",
   "name": "python3"
  },
  "language_info": {
   "codemirror_mode": {
    "name": "ipython",
    "version": 3
   },
   "file_extension": ".py",
   "mimetype": "text/x-python",
   "name": "python",
   "nbconvert_exporter": "python",
   "pygments_lexer": "ipython3",
   "version": "3.8.8"
  }
 },
 "nbformat": 4,
 "nbformat_minor": 5
}
