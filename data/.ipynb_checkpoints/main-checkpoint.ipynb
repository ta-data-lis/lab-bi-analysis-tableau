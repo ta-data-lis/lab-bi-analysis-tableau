{
 "cells": [
  {
   "cell_type": "code",
   "execution_count": 1,
   "id": "d0b68a22",
   "metadata": {},
   "outputs": [
    {
     "data": {
      "text/plain": [
       "'https://public.tableau.com/views/lab-bi-analysis-tableau_16525349962260/Story1?:language=en-US&publish=yes&:display_count=n&:origin=viz_share_link'"
      ]
     },
     "execution_count": 1,
     "metadata": {},
     "output_type": "execute_result"
    }
   ],
   "source": [
    "#lab-bi-analysis-tableau - Francisco Barreto\n",
    "\n",
    "\"https://public.tableau.com/views/lab-bi-analysis-tableau_16525349962260/Story1?:language=en-US&publish=yes&:display_count=n&:origin=viz_share_link\""
   ]
  },
  {
   "cell_type": "code",
   "execution_count": null,
   "id": "49a2c257",
   "metadata": {},
   "outputs": [],
   "source": []
  }
 ],
 "metadata": {
  "kernelspec": {
   "display_name": "Python 3 (ipykernel)",
   "language": "python",
   "name": "python3"
  },
  "language_info": {
   "codemirror_mode": {
    "name": "ipython",
    "version": 3
   },
   "file_extension": ".py",
   "mimetype": "text/x-python",
   "name": "python",
   "nbconvert_exporter": "python",
   "pygments_lexer": "ipython3",
   "version": "3.9.7"
  }
 },
 "nbformat": 4,
 "nbformat_minor": 5
}
